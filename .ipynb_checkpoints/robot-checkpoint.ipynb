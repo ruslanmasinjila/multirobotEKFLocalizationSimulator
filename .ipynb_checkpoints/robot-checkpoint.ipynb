{
 "cells": [
  {
   "cell_type": "code",
   "execution_count": 12,
   "id": "302d0e4f",
   "metadata": {},
   "outputs": [],
   "source": [
    "import numpy as np\n",
    "class Robot:\n",
    "    \n",
    "    def __init__(self):\n",
    "        self.actualPose    =    []\n",
    "        self.estimatedPose =    []\n",
    "        self.covarianceMatrix = []\n",
    "    \n",
    "    def __init__(self, initialActualPose, initialEstimatedPose, initialCovarianceMatrix):\n",
    "        self.actualPose    =    []\n",
    "        self.estimatedPose =    []\n",
    "        self.covarianceMatrix = []\n",
    "        \n",
    "        self.actualPose.append(initialActualPose)\n",
    "        self.estimatedPose.append(initialEstimatedPose)\n",
    "        self.covarianceMatrix.append(initialCovarianceMatrix)\n",
    "        \n",
    "    def addPose(self, newActualPose, newEstimatedPose, newCovarianceMatrix):\n",
    "        self.actualPose.append(newActualPose)\n",
    "        self.estimatedPose.append(newEstimatedPose)\n",
    "        self.initialCovarianceMatrix.append(newCovarianceMatrix)\n",
    "        \n",
    "    def getPose(self):\n",
    "        return self.actualPose[-1],self.estimatedPose[-1],self.covarianceMatrix[-1]\n",
    "    "
   ]
  }
 ],
 "metadata": {
  "kernelspec": {
   "display_name": "Python 3 (ipykernel)",
   "language": "python",
   "name": "python3"
  },
  "language_info": {
   "codemirror_mode": {
    "name": "ipython",
    "version": 3
   },
   "file_extension": ".py",
   "mimetype": "text/x-python",
   "name": "python",
   "nbconvert_exporter": "python",
   "pygments_lexer": "ipython3",
   "version": "3.9.13"
  }
 },
 "nbformat": 4,
 "nbformat_minor": 5
}
